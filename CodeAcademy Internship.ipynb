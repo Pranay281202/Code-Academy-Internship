{
 "cells": [
  {
   "cell_type": "markdown",
   "metadata": {},
   "source": [
    "# 1) Data Cleaning Task: Remove Duplicates from a Dataset "
   ]
  },
  {
   "cell_type": "code",
   "execution_count": 1,
   "metadata": {},
   "outputs": [],
   "source": [
    "import pandas as pd"
   ]
  },
  {
   "cell_type": "code",
   "execution_count": 2,
   "metadata": {},
   "outputs": [
    {
     "data": {
      "text/plain": [
       "<bound method NDFrame.head of     obs    gpa   iq  gender  concept\n",
       "0     1  7.940  111       2       67\n",
       "1     2  8.292  107       2       43\n",
       "2     3  4.643  100       2       52\n",
       "3     4  7.470  107       2       66\n",
       "4     5  8.882  114       1       58\n",
       "..  ...    ...  ...     ...      ...\n",
       "73   85  9.000  112       1       60\n",
       "74   86  9.500  112       1       70\n",
       "75   87  6.057  114       2       51\n",
       "76   88  6.057   93       1       21\n",
       "77   89  6.938  106       2       56\n",
       "\n",
       "[78 rows x 5 columns]>"
      ]
     },
     "execution_count": 2,
     "metadata": {},
     "output_type": "execute_result"
    }
   ],
   "source": [
    "data=pd.read_csv(\"gpa_iq.csv\");\n",
    "data.head"
   ]
  },
  {
   "cell_type": "code",
   "execution_count": 3,
   "metadata": {},
   "outputs": [],
   "source": [
    "df=pd.DataFrame(data)"
   ]
  },
  {
   "cell_type": "code",
   "execution_count": 4,
   "metadata": {},
   "outputs": [
    {
     "name": "stdout",
     "output_type": "stream",
     "text": [
      "    obs    gpa   iq  gender  concept\n",
      "0     1  7.940  111       2       67\n",
      "1     2  8.292  107       2       43\n",
      "2     3  4.643  100       2       52\n",
      "3     4  7.470  107       2       66\n",
      "4     5  8.882  114       1       58\n",
      "..  ...    ...  ...     ...      ...\n",
      "73   85  9.000  112       1       60\n",
      "74   86  9.500  112       1       70\n",
      "75   87  6.057  114       2       51\n",
      "76   88  6.057   93       1       21\n",
      "77   89  6.938  106       2       56\n",
      "\n",
      "[78 rows x 5 columns]\n"
     ]
    }
   ],
   "source": [
    "# Remove duplicates\n",
    "df_cleaned = df.drop_duplicates()\n",
    "print(df_cleaned)"
   ]
  },
  {
   "cell_type": "code",
   "execution_count": 5,
   "metadata": {},
   "outputs": [
    {
     "name": "stdout",
     "output_type": "stream",
     "text": [
      "    obs    gpa   iq  gender  concept\n",
      "0     1  7.940  111       2       67\n",
      "1     2  8.292  107       2       43\n",
      "2     3  4.643  100       2       52\n",
      "3     4  7.470  107       2       66\n",
      "4     5  8.882  114       1       58\n",
      "..  ...    ...  ...     ...      ...\n",
      "73   85  9.000  112       1       60\n",
      "74   86  9.500  112       1       70\n",
      "75   87  6.057  114       2       51\n",
      "76   88  6.057   93       1       21\n",
      "77   89  6.938  106       2       56\n",
      "\n",
      "[78 rows x 5 columns]\n"
     ]
    }
   ],
   "source": [
    "# Replace missing values in 'gpa' and 'iq' columns with median\n",
    "df_cleaned['gpa'].fillna(df_cleaned['gpa'].median(), inplace=True)\n",
    "df_cleaned['iq'].fillna(df_cleaned['iq'].median(), inplace=True)\n",
    "\n",
    "# Replace missing values in 'gender' column with mode (most common value)\n",
    "df_cleaned['gender'].fillna(df_cleaned['gender'].mode()[0], inplace=True)\n",
    "\n",
    "print(df_cleaned)"
   ]
  },
  {
   "cell_type": "code",
   "execution_count": 6,
   "metadata": {},
   "outputs": [
    {
     "name": "stdout",
     "output_type": "stream",
     "text": [
      "    obs    gpa   iq  gender  concept\n",
      "0     1  7.940  111  Female       67\n",
      "1     2  8.292  107  Female       43\n",
      "2     3  4.643  100  Female       52\n",
      "3     4  7.470  107  Female       66\n",
      "4     5  8.882  114    Male       58\n",
      "..  ...    ...  ...     ...      ...\n",
      "73   85  9.000  112    Male       60\n",
      "74   86  9.500  112    Male       70\n",
      "75   87  6.057  114  Female       51\n",
      "76   88  6.057   93    Male       21\n",
      "77   89  6.938  106  Female       56\n",
      "\n",
      "[78 rows x 5 columns]\n"
     ]
    }
   ],
   "source": [
    "# Map gender values to consistent labels (e.g., 1 for Male, 2 for Female)\n",
    "gender_mapping = {1: 'Male', 2: 'Female'}\n",
    "df_cleaned['gender'] = df_cleaned['gender'].map(gender_mapping)\n",
    "\n",
    "print(df_cleaned)"
   ]
  },
  {
   "cell_type": "markdown",
   "metadata": {},
   "source": [
    "# 2) Machine Learning Task: Predict Student Exam Scores"
   ]
  },
  {
   "cell_type": "code",
   "execution_count": 7,
   "metadata": {},
   "outputs": [],
   "source": [
    "import pandas as pd\n",
    "from sklearn.model_selection import train_test_split\n",
    "from sklearn.preprocessing import OneHotEncoder\n",
    "from sklearn.compose import ColumnTransformer\n",
    "from sklearn.linear_model import LogisticRegression\n",
    "from sklearn.metrics import accuracy_score, precision_score, recall_score, f1_score"
   ]
  },
  {
   "cell_type": "code",
   "execution_count": 8,
   "metadata": {},
   "outputs": [],
   "source": [
    "# Separating features (X) and target variable (y)\n",
    "X = df_cleaned[['gpa', 'iq', 'gender']]\n",
    "y = df_cleaned['concept']\n",
    "\n",
    "# Performing one-hot encoding on the gender column\n",
    "column_transformer = ColumnTransformer(\n",
    "    transformers=[('encoder', OneHotEncoder(), ['gender'])],\n",
    "    remainder='passthrough'\n",
    ")\n",
    "X_encoded = column_transformer.fit_transform(X)\n",
    "\n",
    "# Spliting the data into training and testing sets\n",
    "X_train, X_test, y_train, y_test = train_test_split(X_encoded, y, test_size=0.2, random_state=42)"
   ]
  },
  {
   "cell_type": "code",
   "execution_count": 9,
   "metadata": {},
   "outputs": [
    {
     "name": "stderr",
     "output_type": "stream",
     "text": [
      "C:\\Users\\Pranay PC\\anaconda3\\lib\\site-packages\\sklearn\\linear_model\\_logistic.py:940: ConvergenceWarning: lbfgs failed to converge (status=1):\n",
      "STOP: TOTAL NO. of ITERATIONS REACHED LIMIT.\n",
      "\n",
      "Increase the number of iterations (max_iter) or scale the data as shown in:\n",
      "    https://scikit-learn.org/stable/modules/preprocessing.html\n",
      "Please also refer to the documentation for alternative solver options:\n",
      "    https://scikit-learn.org/stable/modules/linear_model.html#logistic-regression\n",
      "  extra_warning_msg=_LOGISTIC_SOLVER_CONVERGENCE_MSG)\n"
     ]
    },
    {
     "data": {
      "text/plain": [
       "LogisticRegression(C=1.0, class_weight=None, dual=False, fit_intercept=True,\n",
       "                   intercept_scaling=1, l1_ratio=None, max_iter=100,\n",
       "                   multi_class='auto', n_jobs=None, penalty='l2',\n",
       "                   random_state=None, solver='lbfgs', tol=0.0001, verbose=0,\n",
       "                   warm_start=False)"
      ]
     },
     "execution_count": 9,
     "metadata": {},
     "output_type": "execute_result"
    }
   ],
   "source": [
    "# Initializing and train the Logistic Regression model\n",
    "model = LogisticRegression()\n",
    "model.fit(X_train, y_train)"
   ]
  },
  {
   "cell_type": "code",
   "execution_count": 10,
   "metadata": {},
   "outputs": [
    {
     "name": "stdout",
     "output_type": "stream",
     "text": [
      "Accuracy: 0.06\n",
      "Precision: 0.02\n",
      "Recall: 0.06\n",
      "F1-score: 0.03\n"
     ]
    },
    {
     "name": "stderr",
     "output_type": "stream",
     "text": [
      "C:\\Users\\Pranay PC\\anaconda3\\lib\\site-packages\\sklearn\\metrics\\_classification.py:1272: UndefinedMetricWarning: Precision is ill-defined and being set to 0.0 in labels with no predicted samples. Use `zero_division` parameter to control this behavior.\n",
      "  _warn_prf(average, modifier, msg_start, len(result))\n",
      "C:\\Users\\Pranay PC\\anaconda3\\lib\\site-packages\\sklearn\\metrics\\_classification.py:1272: UndefinedMetricWarning: Recall is ill-defined and being set to 0.0 in labels with no true samples. Use `zero_division` parameter to control this behavior.\n",
      "  _warn_prf(average, modifier, msg_start, len(result))\n"
     ]
    }
   ],
   "source": [
    "# Predicting on the test set\n",
    "y_pred = model.predict(X_test)\n",
    "\n",
    "# Calculating evaluation metrics\n",
    "accuracy = accuracy_score(y_test, y_pred)\n",
    "precision = precision_score(y_test, y_pred, average='weighted')\n",
    "recall = recall_score(y_test, y_pred, average='weighted')\n",
    "f1 = f1_score(y_test, y_pred, average='weighted')\n",
    "\n",
    "# Printing the evaluation metrics\n",
    "print(f\"Accuracy: {accuracy:.2f}\")\n",
    "print(f\"Precision: {precision:.2f}\")\n",
    "print(f\"Recall: {recall:.2f}\")\n",
    "print(f\"F1-score: {f1:.2f}\")"
   ]
  },
  {
   "cell_type": "markdown",
   "metadata": {},
   "source": [
    "# 3) Data Visualization Task: Create graphs for GPA & IQ Data\n"
   ]
  },
  {
   "cell_type": "code",
   "execution_count": 11,
   "metadata": {},
   "outputs": [],
   "source": [
    "import seaborn as sns\n",
    "import matplotlib.pyplot as plt"
   ]
  },
  {
   "cell_type": "code",
   "execution_count": 12,
   "metadata": {},
   "outputs": [
    {
     "data": {
      "image/png": "[encoded data removed]",
      "text/plain": [
       "<Figure size 720x432 with 1 Axes>"
      ]
     },
     "metadata": {},
     "output_type": "display_data"
    }
   ],
   "source": [
    "gender_avg_data = df_cleaned.groupby('gender')[['gpa', 'iq']].mean().reset_index()\n",
    "\n",
    "# Setting a style of the plot\n",
    "sns.set(style=\"whitegrid\")\n",
    "\n",
    "# Creating a bar plot using Seaborn\n",
    "plt.figure(figsize=(10, 6))\n",
    "\n",
    "# Ploting GPA for each gender\n",
    "sns.barplot(x='gender', y='gpa', data=gender_avg_data, color='skyblue', label='GPA')\n",
    "\n",
    "# Ploting IQ for each gender\n",
    "sns.barplot(x='gender', y='iq', data=gender_avg_data, color='orange', label='IQ')\n",
    "\n",
    "# Adding labels and title\n",
    "plt.xlabel('Gender')\n",
    "plt.ylabel('Average Value')\n",
    "plt.title('Average GPA and IQ by Gender')\n",
    "\n",
    "# Showing the plot within the Jupyter Notebook environment\n",
    "plt.legend()\n",
    "plt.show()"
   ]
  }
 ],
 "metadata": {
  "kernelspec": {
   "display_name": "Python 3",
   "language": "python",
   "name": "python3"
  },
  "language_info": {
   "codemirror_mode": {
    "name": "ipython",
    "version": 3
   },
   "file_extension": ".py",
   "mimetype": "text/x-python",
   "name": "python",
   "nbconvert_exporter": "python",
   "pygments_lexer": "ipython3",
   "version": "3.7.6"
  }
 },
 "nbformat": 4,
 "nbformat_minor": 4
}
